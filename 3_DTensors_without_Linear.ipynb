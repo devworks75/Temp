{
  "nbformat": 4,
  "nbformat_minor": 0,
  "metadata": {
    "colab": {
      "name": "3-DTensors_without_Linear.ipynb",
      "provenance": [],
      "authorship_tag": "ABX9TyPo6CUJDs+XJ4hZPoSepbqy",
      "include_colab_link": true
    },
    "kernelspec": {
      "name": "python3",
      "display_name": "Python 3"
    },
    "language_info": {
      "name": "python"
    }
  },
  "cells": [
    {
      "cell_type": "markdown",
      "metadata": {
        "id": "view-in-github",
        "colab_type": "text"
      },
      "source": [
        "<a href=\"https://colab.research.google.com/github/devworks75/Temp/blob/main/3_DTensors_without_Linear.ipynb\" target=\"_parent\"><img src=\"https://colab.research.google.com/assets/colab-badge.svg\" alt=\"Open In Colab\"/></a>"
      ]
    },
    {
      "cell_type": "code",
      "execution_count": 1,
      "metadata": {
        "colab": {
          "base_uri": "https://localhost:8080/"
        },
        "id": "RMKnxWKV0ZZc",
        "outputId": "9007432f-62d9-41c3-87ff-1058b024fdf1"
      },
      "outputs": [
        {
          "output_type": "stream",
          "name": "stdout",
          "text": [
            "Requirement already satisfied: torch in /usr/local/lib/python3.7/dist-packages (1.10.0+cu111)\n",
            "Requirement already satisfied: typing-extensions in /usr/local/lib/python3.7/dist-packages (from torch) (3.10.0.2)\n"
          ]
        }
      ],
      "source": [
        "!pip install torch"
      ]
    },
    {
      "cell_type": "code",
      "source": [
        "import torch"
      ],
      "metadata": {
        "id": "xELjR-gr0kXF"
      },
      "execution_count": 2,
      "outputs": []
    },
    {
      "cell_type": "code",
      "source": [
        "wt = torch.tensor(3.0,requires_grad=True)\n",
        "bias = torch.tensor(3.0,requires_grad=True)"
      ],
      "metadata": {
        "id": "7ifRJfsm09S9"
      },
      "execution_count": 21,
      "outputs": []
    },
    {
      "cell_type": "markdown",
      "source": [
        "# #User defined Model(Linear) + optimization of gradient decent = fine fit of data"
      ],
      "metadata": {
        "id": "V1UKuK076TGg"
      }
    },
    {
      "cell_type": "code",
      "source": [
        "def forward(x):\n",
        "  y = wt*x + bias\n",
        "  return y\n"
      ],
      "metadata": {
        "id": "bAfLpalD1e1W"
      },
      "execution_count": 20,
      "outputs": []
    },
    {
      "cell_type": "code",
      "source": [
        "x = torch.tensor([[4], [7]])\n",
        "forward(x)"
      ],
      "metadata": {
        "colab": {
          "base_uri": "https://localhost:8080/"
        },
        "id": "-Pqk5XmG37P-",
        "outputId": "b3c81f53-9fd9-4b65-fc99-b939b50c18b2"
      },
      "execution_count": 22,
      "outputs": [
        {
          "output_type": "execute_result",
          "data": {
            "text/plain": [
              "tensor([[15.],\n",
              "        [24.]], grad_fn=<AddBackward0>)"
            ]
          },
          "metadata": {},
          "execution_count": 22
        }
      ]
    }
  ]
}