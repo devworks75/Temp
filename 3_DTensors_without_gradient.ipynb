{
  "nbformat": 4,
  "nbformat_minor": 0,
  "metadata": {
    "colab": {
      "name": "3-DTensors_without_gradient.ipynb",
      "provenance": [],
      "authorship_tag": "ABX9TyP1ljVNX8s1in0TfJcMB815",
      "include_colab_link": true
    },
    "kernelspec": {
      "name": "python3",
      "display_name": "Python 3"
    },
    "language_info": {
      "name": "python"
    }
  },
  "cells": [
    {
      "cell_type": "markdown",
      "metadata": {
        "id": "view-in-github",
        "colab_type": "text"
      },
      "source": [
        "<a href=\"https://colab.research.google.com/github/devworks75/Temp/blob/main/3_DTensors_without_gradient.ipynb\" target=\"_parent\"><img src=\"https://colab.research.google.com/assets/colab-badge.svg\" alt=\"Open In Colab\"/></a>"
      ]
    },
    {
      "cell_type": "code",
      "execution_count": 1,
      "metadata": {
        "colab": {
          "base_uri": "https://localhost:8080/"
        },
        "id": "9G54TKfmyyMo",
        "outputId": "647f2a8a-121e-47e7-b7d9-351431204645"
      },
      "outputs": [
        {
          "output_type": "stream",
          "name": "stdout",
          "text": [
            "Requirement already satisfied: torch in /usr/local/lib/python3.7/dist-packages (1.10.0+cu111)\n",
            "Requirement already satisfied: typing-extensions in /usr/local/lib/python3.7/dist-packages (from torch) (3.10.0.2)\n"
          ]
        }
      ],
      "source": [
        "!pip install torch"
      ]
    },
    {
      "cell_type": "code",
      "source": [
        "import torch"
      ],
      "metadata": {
        "id": "0roQd1CUy_UE"
      },
      "execution_count": 2,
      "outputs": []
    },
    {
      "cell_type": "markdown",
      "source": [
        "# #This defines a process where no gradient is introduced"
      ],
      "metadata": {
        "id": "eEiCG7IZ0Dlz"
      }
    },
    {
      "cell_type": "code",
      "source": [
        "tn_one = torch.tensor([1,2,3])\n",
        "tn_two = torch.tensor([1,2,3])\n",
        "result = tn_one * tn_two \n",
        "print(result)"
      ],
      "metadata": {
        "colab": {
          "base_uri": "https://localhost:8080/"
        },
        "id": "qcJib10gzEpq",
        "outputId": "b71ad89e-2046-4e0b-cfa6-963f0e0040bf"
      },
      "execution_count": 3,
      "outputs": [
        {
          "output_type": "stream",
          "name": "stdout",
          "text": [
            "tensor([1, 4, 9])\n"
          ]
        }
      ]
    }
  ]
}