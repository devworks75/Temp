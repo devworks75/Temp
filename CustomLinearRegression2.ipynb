{
  "nbformat": 4,
  "nbformat_minor": 0,
  "metadata": {
    "colab": {
      "name": "CustomLinearRegression2.ipynb",
      "provenance": [],
      "authorship_tag": "ABX9TyPYkxdHQztcXdKKG6bSbj1f",
      "include_colab_link": true
    },
    "kernelspec": {
      "name": "python3",
      "display_name": "Python 3"
    },
    "language_info": {
      "name": "python"
    }
  },
  "cells": [
    {
      "cell_type": "markdown",
      "metadata": {
        "id": "view-in-github",
        "colab_type": "text"
      },
      "source": [
        "<a href=\"https://colab.research.google.com/github/devworks75/Temp/blob/main/CustomLinearRegression2.ipynb\" target=\"_parent\"><img src=\"https://colab.research.google.com/assets/colab-badge.svg\" alt=\"Open In Colab\"/></a>"
      ]
    },
    {
      "cell_type": "code",
      "execution_count": 1,
      "metadata": {
        "colab": {
          "base_uri": "https://localhost:8080/"
        },
        "id": "izd-n1XWRyWe",
        "outputId": "7726e864-7bfd-4510-b67a-4478be0e7882"
      },
      "outputs": [
        {
          "output_type": "stream",
          "name": "stdout",
          "text": [
            "Requirement already satisfied: torch in /usr/local/lib/python3.7/dist-packages (1.10.0+cu111)\n",
            "Requirement already satisfied: typing-extensions in /usr/local/lib/python3.7/dist-packages (from torch) (3.10.0.2)\n"
          ]
        }
      ],
      "source": [
        "!pip install torch"
      ]
    },
    {
      "cell_type": "code",
      "source": [
        "import torch\n",
        "import torch.nn as nn"
      ],
      "metadata": {
        "id": "o_wreUFZSEkG"
      },
      "execution_count": 2,
      "outputs": []
    },
    {
      "cell_type": "code",
      "source": [
        "class LR(nn.Module):\n",
        "  def __init__(self,input_size,output_size):\n",
        "    super().__init__()\n",
        "    self.linear = nn.Linear(input_size,output_size)\n",
        "  def forward(self,x):\n",
        "    pred = self.linear(x)\n",
        "    return pred\n"
      ],
      "metadata": {
        "id": "uJBRMHKgSK2m"
      },
      "execution_count": 3,
      "outputs": []
    },
    {
      "cell_type": "code",
      "source": [
        "torch.manual_seed(1)\n",
        "model = LR(1,1)"
      ],
      "metadata": {
        "id": "TLH83lY1VRj_"
      },
      "execution_count": null,
      "outputs": []
    },
    {
      "cell_type": "code",
      "source": [
        "x = torch.tensor([[1.0],[2.0]])\n",
        "print(model.forward(x))"
      ],
      "metadata": {
        "id": "xuwqpF_EWSi1"
      },
      "execution_count": null,
      "outputs": []
    }
  ]
}